{
  "nbformat": 4,
  "nbformat_minor": 0,
  "metadata": {
    "colab": {
      "provenance": [],
      "collapsed_sections": []
    },
    "kernelspec": {
      "name": "python3",
      "display_name": "Python 3"
    },
    "language_info": {
      "name": "python"
    }
  },
  "cells": [
    {
      "cell_type": "markdown",
      "source": [
        "Скачиваем необходимые файлы."
      ],
      "metadata": {
        "id": "gfv0Y8jtsQOW"
      }
    },
    {
      "cell_type": "code",
      "source": [
        "# Скачиваем биопитон.\n",
        "!pip install biopython"
      ],
      "metadata": {
        "colab": {
          "base_uri": "https://localhost:8080/"
        },
        "id": "Rv1H6zuzmx_t",
        "outputId": "d7dca667-2ef1-44a6-f478-817066db0090"
      },
      "execution_count": 1,
      "outputs": [
        {
          "output_type": "stream",
          "name": "stdout",
          "text": [
            "Looking in indexes: https://pypi.org/simple, https://us-python.pkg.dev/colab-wheels/public/simple/\n",
            "Collecting biopython\n",
            "  Downloading biopython-1.79-cp37-cp37m-manylinux_2_17_x86_64.manylinux2014_x86_64.whl (2.6 MB)\n",
            "\u001b[K     |████████████████████████████████| 2.6 MB 5.2 MB/s \n",
            "\u001b[?25hRequirement already satisfied: numpy in /usr/local/lib/python3.7/dist-packages (from biopython) (1.21.6)\n",
            "Installing collected packages: biopython\n",
            "Successfully installed biopython-1.79\n"
          ]
        }
      ]
    },
    {
      "cell_type": "markdown",
      "source": [],
      "metadata": {
        "id": "Cnrx3il_sUYm"
      }
    },
    {
      "cell_type": "code",
      "execution_count": 2,
      "metadata": {
        "colab": {
          "base_uri": "https://localhost:8080/"
        },
        "id": "ZmYzTWakltmk",
        "outputId": "a4400584-90d0-49f8-8480-85cf36f77d35"
      },
      "outputs": [
        {
          "output_type": "stream",
          "name": "stdout",
          "text": [
            "y\n",
            "--2022-10-23 19:23:23--  https://raw.githubusercontent.com/dreamer1978/HW2_annotation/main/data/scaffolds.hits_from_SwissProt.txt\n",
            "Resolving raw.githubusercontent.com (raw.githubusercontent.com)... 185.199.108.133, 185.199.109.133, 185.199.110.133, ...\n",
            "Connecting to raw.githubusercontent.com (raw.githubusercontent.com)|185.199.108.133|:443... connected.\n",
            "HTTP request sent, awaiting response... 200 OK\n",
            "Length: 66249 (65K) [text/plain]\n",
            "Saving to: ‘scaffolds.hits_from_SwissProt.txt’\n",
            "\n",
            "\r          scaffolds   0%[                    ]       0  --.-KB/s               \rscaffolds.hits_from 100%[===================>]  64.70K  --.-KB/s    in 0.01s   \n",
            "\n",
            "2022-10-23 19:23:23 (5.56 MB/s) - ‘scaffolds.hits_from_SwissProt.txt’ saved [66249/66249]\n",
            "\n",
            "--2022-10-23 19:23:23--  https://raw.githubusercontent.com/dreamer1978/HW2_annotation/main/data/scaffolds.hits_from_MIL_1.txt\n",
            "Resolving raw.githubusercontent.com (raw.githubusercontent.com)... 185.199.108.133, 185.199.109.133, 185.199.110.133, ...\n",
            "Connecting to raw.githubusercontent.com (raw.githubusercontent.com)|185.199.108.133|:443... connected.\n",
            "HTTP request sent, awaiting response... 200 OK\n",
            "Length: 870278 (850K) [text/plain]\n",
            "Saving to: ‘scaffolds.hits_from_MIL_1.txt’\n",
            "\n",
            "scaffolds.hits_from 100%[===================>] 849.88K  --.-KB/s    in 0.05s   \n",
            "\n",
            "2022-10-23 19:23:23 (18.1 MB/s) - ‘scaffolds.hits_from_MIL_1.txt’ saved [870278/870278]\n",
            "\n",
            "--2022-10-23 19:23:24--  https://raw.githubusercontent.com/dreamer1978/HW2_annotation/main/data/proteins.fasta\n",
            "Resolving raw.githubusercontent.com (raw.githubusercontent.com)... 185.199.108.133, 185.199.109.133, 185.199.110.133, ...\n",
            "Connecting to raw.githubusercontent.com (raw.githubusercontent.com)|185.199.108.133|:443... connected.\n",
            "HTTP request sent, awaiting response... 200 OK\n",
            "Length: 1402715 (1.3M) [text/plain]\n",
            "Saving to: ‘proteins.fasta’\n",
            "\n",
            "proteins.fasta      100%[===================>]   1.34M  --.-KB/s    in 0.05s   \n",
            "\n",
            "2022-10-23 19:23:24 (24.6 MB/s) - ‘proteins.fasta’ saved [1402715/1402715]\n",
            "\n",
            "--2022-10-23 19:23:24--  https://raw.githubusercontent.com/dreamer1978/HW2_annotation/main/data/gms2.lst\n",
            "Resolving raw.githubusercontent.com (raw.githubusercontent.com)... 185.199.111.133, 185.199.108.133, 185.199.110.133, ...\n",
            "Connecting to raw.githubusercontent.com (raw.githubusercontent.com)|185.199.111.133|:443... connected.\n",
            "HTTP request sent, awaiting response... 200 OK\n",
            "Length: 220822 (216K) [text/plain]\n",
            "Saving to: ‘gms2.lst’\n",
            "\n",
            "gms2.lst            100%[===================>] 215.65K  --.-KB/s    in 0.03s   \n",
            "\n",
            "2022-10-23 19:23:24 (8.30 MB/s) - ‘gms2.lst’ saved [220822/220822]\n",
            "\n"
          ]
        }
      ],
      "source": [
        "# Добавляем файлы из репозитория.\n",
        "!wget https://raw.githubusercontent.com/dreamer1978/HW2_annotation/main/data/scaffolds.hits_from_SwissProt.txt\n",
        "!wget https://raw.githubusercontent.com/dreamer1978/HW2_annotation/main/data/scaffolds.hits_from_MIL_1.txt\n",
        "!wget https://raw.githubusercontent.com/dreamer1978/HW2_annotation/main/data/proteins.fasta\n",
        "!wget https://raw.githubusercontent.com/dreamer1978/HW2_annotation/main/data/gms2.lst"
      ]
    },
    {
      "cell_type": "code",
      "source": [
        "# Получаем скаффолд из первого задания.\n",
        "!wget https://raw.githubusercontent.com/dreamer1978/hse22_hw1/main/data/GAP_CLOSE_gapClosed.fa"
      ],
      "metadata": {
        "id": "CKV6cNlMTa9v",
        "colab": {
          "base_uri": "https://localhost:8080/"
        },
        "outputId": "4fe18799-1f13-4b90-edc9-b0d4e3f5d6ca"
      },
      "execution_count": 3,
      "outputs": [
        {
          "output_type": "stream",
          "name": "stdout",
          "text": [
            "--2022-10-23 19:23:32--  https://raw.githubusercontent.com/dreamer1978/hse22_hw1/main/data/GAP_CLOSE_gapClosed.fa\n",
            "Resolving raw.githubusercontent.com (raw.githubusercontent.com)... 185.199.108.133, 185.199.109.133, 185.199.110.133, ...\n",
            "Connecting to raw.githubusercontent.com (raw.githubusercontent.com)|185.199.108.133|:443... connected.\n",
            "HTTP request sent, awaiting response... 200 OK\n",
            "Length: 3965608 (3.8M) [text/plain]\n",
            "Saving to: ‘GAP_CLOSE_gapClosed.fa’\n",
            "\n",
            "GAP_CLOSE_gapClosed 100%[===================>]   3.78M  --.-KB/s    in 0.07s   \n",
            "\n",
            "2022-10-23 19:23:33 (54.4 MB/s) - ‘GAP_CLOSE_gapClosed.fa’ saved [3965608/3965608]\n",
            "\n"
          ]
        }
      ]
    },
    {
      "cell_type": "code",
      "source": [
        "# Скачаем файл близкородсивенной бактерии в формате genbank\n",
        "!sh -c \"$(curl -fsSL ftp://ftp.ncbi.nlm.nih.gov/entrez/entrezdirect/install-edirect.sh)\""
      ],
      "metadata": {
        "colab": {
          "base_uri": "https://localhost:8080/"
        },
        "id": "rnwCakUlntyE",
        "outputId": "87d0de7c-b724-46a2-b213-cb8bf7c9a3e0"
      },
      "execution_count": 4,
      "outputs": [
        {
          "output_type": "stream",
          "name": "stdout",
          "text": [
            "\n",
            "Entrez Direct has been successfully downloaded and installed.\n",
            "\n",
            "In order to complete the configuration process, please execute the following:\n",
            "\n",
            "  echo \"export PATH=\\${PATH}:/root/edirect\" >> ${HOME}/.bashrc\n",
            "\n",
            "or manually edit the PATH variable assignment in your .bashrc file.\n",
            "\n",
            "Would you like to do that automatically now? [y/N]\n",
            "y\n",
            "OK, done.\n",
            "\n",
            "To activate EDirect for this terminal session, please execute the following:\n",
            "\n",
            "export PATH=${PATH}:${HOME}/edirect\n",
            "\n"
          ]
        }
      ]
    },
    {
      "cell_type": "code",
      "source": [
        "!$HOME/edirect/efetch -db nuccore -id HF680312 -format gb  >  T_oleivorans_MIL_1.gbk"
      ],
      "metadata": {
        "id": "AMseGuM6oCAu"
      },
      "execution_count": 5,
      "outputs": []
    },
    {
      "cell_type": "code",
      "source": [
        "from Bio import SeqIO\n",
        "\n",
        "# Переведем скаченный файл из пердыдущего ДЗ в массив типов Bio.SeqRecord.SeqRecord.\n",
        "scaffolds = {}\n",
        "for scaffold in SeqIO.parse('GAP_CLOSE_gapClosed.fa', format='fasta'):\n",
        "  scaffolds[scaffold.id] = scaffold\n",
        "  scaffold.annotations['molecule_type'] = 'DNA'\n",
        "# Теперь у нас есть все скаффолды в словаре."
      ],
      "metadata": {
        "id": "HTwMFFzMjRli"
      },
      "execution_count": 21,
      "outputs": []
    },
    {
      "cell_type": "code",
      "source": [
        "from Bio.SeqFeature import SeqFeature, FeatureLocation\n",
        "\n",
        "genes = {}\n",
        "# Добавляем фичи в массивы генов.\n",
        "# Добавляем координаты для генов.\n",
        "for gene in SeqIO.parse('proteins.fasta', format='fasta'):\n",
        "  arr = gene.description.split(' ')\n",
        "\n",
        "  scaf_name = arr[1]\n",
        "  start = int(arr[2])\n",
        "  end = int(arr[3])\n",
        "\n",
        "  feature = SeqFeature(FeatureLocation(start, end, strand=(arr[4]=='+')), type=\"CDS\")\n",
        "  feature.qualifiers['locus_tag'] = [arr[0]]\n",
        "  feature.qualifiers['translation'] = [gene.seq]\n",
        "\n",
        "  scaffolds[scaf_name].features.append(feature)\n",
        "  genes[arr[0]] = feature"
      ],
      "metadata": {
        "id": "8GINJYiRkcTe"
      },
      "execution_count": 22,
      "outputs": []
    },
    {
      "cell_type": "code",
      "source": [
        "# Добавляем функции белоков близкородсвенной бактерии MIL-1.\n",
        "qual_genes_mil1 = {}\n",
        "\n",
        "for gen in SeqIO.parse('/content/T_oleivorans_MIL_1.gbk', format='genbank'):\n",
        "  for feature in gen.features :\n",
        "    if 'protein_id' in feature.qualifiers and 'product' in feature.qualifiers:\n",
        "      qual_genes_mil1[feature.qualifiers['protein_id'][0]] = feature.qualifiers['product'][0]"
      ],
      "metadata": {
        "id": "4h7adpEZVL99"
      },
      "execution_count": 23,
      "outputs": []
    },
    {
      "cell_type": "code",
      "source": [
        "# Смотрим структуру файла scaffolds.hits_from_MIL_1.txt.\n",
        "!head scaffolds.hits_from_MIL_1.txt"
      ],
      "metadata": {
        "id": "YScVbmqWgECe",
        "colab": {
          "base_uri": "https://localhost:8080/"
        },
        "outputId": "37c72a9a-e9ff-4c72-c5a5-97403b45858b"
      },
      "execution_count": 24,
      "outputs": [
        {
          "output_type": "stream",
          "name": "stdout",
          "text": [
            "2\tlcl|HF680312.1_prot_CCU72326.1_1877\t99.054\t317\t3\t0\t3\t319\t1\t317\t0.0\t644\n",
            "2\tlcl|HF680312.1_prot_CCU72392.1_1943\t34.583\t240\t138\t5\t85\t307\t956\t1193\t2.33e-30\t118\n",
            "2\tlcl|HF680312.1_prot_CCU72759.1_2310\t27.667\t300\t188\t8\t8\t302\t709\t984\t1.02e-24\t101\n",
            "2\tlcl|HF680312.1_prot_CCU70543.1_94\t42.857\t126\t71\t1\t79\t204\t798\t922\t5.63e-24\t99.4\n",
            "2\tlcl|HF680312.1_prot_CCU70690.1_241\t26.140\t329\t205\t10\t2\t303\t591\t908\t6.26e-23\t96.7\n",
            "2\tlcl|HF680312.1_prot_CCU74013.1_3564\t38.462\t130\t76\t3\t91\t219\t685\t811\t4.96e-20\t87.8\n",
            "2\tlcl|HF680312.1_prot_CCU71475.1_1026\t36.522\t115\t71\t2\t86\t200\t555\t667\t2.19e-16\t76.6\n",
            "2\tlcl|HF680312.1_prot_CCU71362.1_913\t24.535\t269\t187\t3\t52\t306\t633\t899\t2.61e-14\t70.5\n",
            "2\tlcl|HF680312.1_prot_CCU70724.1_275\t30.534\t131\t81\t3\t78\t205\t1983\t2106\t6.54e-13\t66.2\n",
            "2\tlcl|HF680312.1_prot_CCU70719.1_270\t26.087\t115\t83\t1\t90\t204\t15\t127\t9.14e-12\t58.5\n"
          ]
        }
      ]
    },
    {
      "cell_type": "code",
      "source": [
        "# Переносим данный в таблице DataFrame.\n",
        "import pandas as pd\n",
        "cols = ['qseqid', 'sseqid', 'pident', 'length', 'misMatch', 'gapOpen', 'qstart', 'qend', 'sstart', 'send', 'e-value', 'bitScore']\n",
        "df = pd.read_csv('scaffolds.hits_from_MIL_1.txt', sep='\\t', header=None, names=cols)"
      ],
      "metadata": {
        "id": "sXN8cOT8g3gR"
      },
      "execution_count": 25,
      "outputs": []
    },
    {
      "cell_type": "code",
      "source": [
        "df.head()"
      ],
      "metadata": {
        "id": "OrIbtqMaheNY",
        "colab": {
          "base_uri": "https://localhost:8080/",
          "height": 250
        },
        "outputId": "94bce594-7d42-4405-cda2-fcf3f9006e77"
      },
      "execution_count": 26,
      "outputs": [
        {
          "output_type": "execute_result",
          "data": {
            "text/plain": [
              "   qseqid                               sseqid  pident  length  misMatch  \\\n",
              "0       2  lcl|HF680312.1_prot_CCU72326.1_1877  99.054     317         3   \n",
              "1       2  lcl|HF680312.1_prot_CCU72392.1_1943  34.583     240       138   \n",
              "2       2  lcl|HF680312.1_prot_CCU72759.1_2310  27.667     300       188   \n",
              "3       2    lcl|HF680312.1_prot_CCU70543.1_94  42.857     126        71   \n",
              "4       2   lcl|HF680312.1_prot_CCU70690.1_241  26.140     329       205   \n",
              "\n",
              "   gapOpen  qstart  qend  sstart  send       e-value  bitScore  \n",
              "0        0       3   319       1   317  0.000000e+00     644.0  \n",
              "1        5      85   307     956  1193  2.330000e-30     118.0  \n",
              "2        8       8   302     709   984  1.020000e-24     101.0  \n",
              "3        1      79   204     798   922  5.630000e-24      99.4  \n",
              "4       10       2   303     591   908  6.260000e-23      96.7  "
            ],
            "text/html": [
              "\n",
              "  <div id=\"df-de41b631-036e-47de-bf11-14f4d7f7aa07\">\n",
              "    <div class=\"colab-df-container\">\n",
              "      <div>\n",
              "<style scoped>\n",
              "    .dataframe tbody tr th:only-of-type {\n",
              "        vertical-align: middle;\n",
              "    }\n",
              "\n",
              "    .dataframe tbody tr th {\n",
              "        vertical-align: top;\n",
              "    }\n",
              "\n",
              "    .dataframe thead th {\n",
              "        text-align: right;\n",
              "    }\n",
              "</style>\n",
              "<table border=\"1\" class=\"dataframe\">\n",
              "  <thead>\n",
              "    <tr style=\"text-align: right;\">\n",
              "      <th></th>\n",
              "      <th>qseqid</th>\n",
              "      <th>sseqid</th>\n",
              "      <th>pident</th>\n",
              "      <th>length</th>\n",
              "      <th>misMatch</th>\n",
              "      <th>gapOpen</th>\n",
              "      <th>qstart</th>\n",
              "      <th>qend</th>\n",
              "      <th>sstart</th>\n",
              "      <th>send</th>\n",
              "      <th>e-value</th>\n",
              "      <th>bitScore</th>\n",
              "    </tr>\n",
              "  </thead>\n",
              "  <tbody>\n",
              "    <tr>\n",
              "      <th>0</th>\n",
              "      <td>2</td>\n",
              "      <td>lcl|HF680312.1_prot_CCU72326.1_1877</td>\n",
              "      <td>99.054</td>\n",
              "      <td>317</td>\n",
              "      <td>3</td>\n",
              "      <td>0</td>\n",
              "      <td>3</td>\n",
              "      <td>319</td>\n",
              "      <td>1</td>\n",
              "      <td>317</td>\n",
              "      <td>0.000000e+00</td>\n",
              "      <td>644.0</td>\n",
              "    </tr>\n",
              "    <tr>\n",
              "      <th>1</th>\n",
              "      <td>2</td>\n",
              "      <td>lcl|HF680312.1_prot_CCU72392.1_1943</td>\n",
              "      <td>34.583</td>\n",
              "      <td>240</td>\n",
              "      <td>138</td>\n",
              "      <td>5</td>\n",
              "      <td>85</td>\n",
              "      <td>307</td>\n",
              "      <td>956</td>\n",
              "      <td>1193</td>\n",
              "      <td>2.330000e-30</td>\n",
              "      <td>118.0</td>\n",
              "    </tr>\n",
              "    <tr>\n",
              "      <th>2</th>\n",
              "      <td>2</td>\n",
              "      <td>lcl|HF680312.1_prot_CCU72759.1_2310</td>\n",
              "      <td>27.667</td>\n",
              "      <td>300</td>\n",
              "      <td>188</td>\n",
              "      <td>8</td>\n",
              "      <td>8</td>\n",
              "      <td>302</td>\n",
              "      <td>709</td>\n",
              "      <td>984</td>\n",
              "      <td>1.020000e-24</td>\n",
              "      <td>101.0</td>\n",
              "    </tr>\n",
              "    <tr>\n",
              "      <th>3</th>\n",
              "      <td>2</td>\n",
              "      <td>lcl|HF680312.1_prot_CCU70543.1_94</td>\n",
              "      <td>42.857</td>\n",
              "      <td>126</td>\n",
              "      <td>71</td>\n",
              "      <td>1</td>\n",
              "      <td>79</td>\n",
              "      <td>204</td>\n",
              "      <td>798</td>\n",
              "      <td>922</td>\n",
              "      <td>5.630000e-24</td>\n",
              "      <td>99.4</td>\n",
              "    </tr>\n",
              "    <tr>\n",
              "      <th>4</th>\n",
              "      <td>2</td>\n",
              "      <td>lcl|HF680312.1_prot_CCU70690.1_241</td>\n",
              "      <td>26.140</td>\n",
              "      <td>329</td>\n",
              "      <td>205</td>\n",
              "      <td>10</td>\n",
              "      <td>2</td>\n",
              "      <td>303</td>\n",
              "      <td>591</td>\n",
              "      <td>908</td>\n",
              "      <td>6.260000e-23</td>\n",
              "      <td>96.7</td>\n",
              "    </tr>\n",
              "  </tbody>\n",
              "</table>\n",
              "</div>\n",
              "      <button class=\"colab-df-convert\" onclick=\"convertToInteractive('df-de41b631-036e-47de-bf11-14f4d7f7aa07')\"\n",
              "              title=\"Convert this dataframe to an interactive table.\"\n",
              "              style=\"display:none;\">\n",
              "        \n",
              "  <svg xmlns=\"http://www.w3.org/2000/svg\" height=\"24px\"viewBox=\"0 0 24 24\"\n",
              "       width=\"24px\">\n",
              "    <path d=\"M0 0h24v24H0V0z\" fill=\"none\"/>\n",
              "    <path d=\"M18.56 5.44l.94 2.06.94-2.06 2.06-.94-2.06-.94-.94-2.06-.94 2.06-2.06.94zm-11 1L8.5 8.5l.94-2.06 2.06-.94-2.06-.94L8.5 2.5l-.94 2.06-2.06.94zm10 10l.94 2.06.94-2.06 2.06-.94-2.06-.94-.94-2.06-.94 2.06-2.06.94z\"/><path d=\"M17.41 7.96l-1.37-1.37c-.4-.4-.92-.59-1.43-.59-.52 0-1.04.2-1.43.59L10.3 9.45l-7.72 7.72c-.78.78-.78 2.05 0 2.83L4 21.41c.39.39.9.59 1.41.59.51 0 1.02-.2 1.41-.59l7.78-7.78 2.81-2.81c.8-.78.8-2.07 0-2.86zM5.41 20L4 18.59l7.72-7.72 1.47 1.35L5.41 20z\"/>\n",
              "  </svg>\n",
              "      </button>\n",
              "      \n",
              "  <style>\n",
              "    .colab-df-container {\n",
              "      display:flex;\n",
              "      flex-wrap:wrap;\n",
              "      gap: 12px;\n",
              "    }\n",
              "\n",
              "    .colab-df-convert {\n",
              "      background-color: #E8F0FE;\n",
              "      border: none;\n",
              "      border-radius: 50%;\n",
              "      cursor: pointer;\n",
              "      display: none;\n",
              "      fill: #1967D2;\n",
              "      height: 32px;\n",
              "      padding: 0 0 0 0;\n",
              "      width: 32px;\n",
              "    }\n",
              "\n",
              "    .colab-df-convert:hover {\n",
              "      background-color: #E2EBFA;\n",
              "      box-shadow: 0px 1px 2px rgba(60, 64, 67, 0.3), 0px 1px 3px 1px rgba(60, 64, 67, 0.15);\n",
              "      fill: #174EA6;\n",
              "    }\n",
              "\n",
              "    [theme=dark] .colab-df-convert {\n",
              "      background-color: #3B4455;\n",
              "      fill: #D2E3FC;\n",
              "    }\n",
              "\n",
              "    [theme=dark] .colab-df-convert:hover {\n",
              "      background-color: #434B5C;\n",
              "      box-shadow: 0px 1px 3px 1px rgba(0, 0, 0, 0.15);\n",
              "      filter: drop-shadow(0px 1px 2px rgba(0, 0, 0, 0.3));\n",
              "      fill: #FFFFFF;\n",
              "    }\n",
              "  </style>\n",
              "\n",
              "      <script>\n",
              "        const buttonEl =\n",
              "          document.querySelector('#df-de41b631-036e-47de-bf11-14f4d7f7aa07 button.colab-df-convert');\n",
              "        buttonEl.style.display =\n",
              "          google.colab.kernel.accessAllowed ? 'block' : 'none';\n",
              "\n",
              "        async function convertToInteractive(key) {\n",
              "          const element = document.querySelector('#df-de41b631-036e-47de-bf11-14f4d7f7aa07');\n",
              "          const dataTable =\n",
              "            await google.colab.kernel.invokeFunction('convertToInteractive',\n",
              "                                                     [key], {});\n",
              "          if (!dataTable) return;\n",
              "\n",
              "          const docLinkHtml = 'Like what you see? Visit the ' +\n",
              "            '<a target=\"_blank\" href=https://colab.research.google.com/notebooks/data_table.ipynb>data table notebook</a>'\n",
              "            + ' to learn more about interactive tables.';\n",
              "          element.innerHTML = '';\n",
              "          dataTable['output_type'] = 'display_data';\n",
              "          await google.colab.output.renderOutput(dataTable, element);\n",
              "          const docLink = document.createElement('div');\n",
              "          docLink.innerHTML = docLinkHtml;\n",
              "          element.appendChild(docLink);\n",
              "        }\n",
              "      </script>\n",
              "    </div>\n",
              "  </div>\n",
              "  "
            ]
          },
          "metadata": {},
          "execution_count": 26
        }
      ]
    },
    {
      "cell_type": "code",
      "source": [
        "# Сортировка и фильтрация данных.\n",
        "df = df.sort_values(by='bitScore', ascending=0).drop_duplicates('qseqid')\n",
        "df = df[df['sseqid'].str.contains(\"CCU\")]\n",
        "df.head()"
      ],
      "metadata": {
        "id": "NLXTCk3ChtDf",
        "colab": {
          "base_uri": "https://localhost:8080/",
          "height": 206
        },
        "outputId": "149bef42-2a6a-4641-e5b9-3fe9daa3368f"
      },
      "execution_count": 27,
      "outputs": [
        {
          "output_type": "execute_result",
          "data": {
            "text/plain": [
              "      qseqid                               sseqid  pident  length  misMatch  \\\n",
              "7198    2515  lcl|HF680312.1_prot_CCU73896.1_3447  98.979    2253        23   \n",
              "5770    2053   lcl|HF680312.1_prot_CCU70724.1_275  97.870    2113        43   \n",
              "891      322  lcl|HF680312.1_prot_CCU71900.1_1451  99.878    1640         2   \n",
              "7424    2591  lcl|HF680312.1_prot_CCU73861.1_3412  99.214    1654        13   \n",
              "115       46  lcl|HF680312.1_prot_CCU71621.1_1172  99.690    1611         5   \n",
              "\n",
              "      gapOpen  qstart  qend  sstart  send  e-value  bitScore  \n",
              "7198        0       1  2253       1  2253      0.0    4296.0  \n",
              "5770        1       7  2119       1  2111      0.0    4158.0  \n",
              "891         0       1  1640       1  1640      0.0    3406.0  \n",
              "7424        0       1  1654       1  1654      0.0    3372.0  \n",
              "115         0       1  1611       1  1611      0.0    3338.0  "
            ],
            "text/html": [
              "\n",
              "  <div id=\"df-7e8eb005-3be8-4dee-8e66-a977fad5ee69\">\n",
              "    <div class=\"colab-df-container\">\n",
              "      <div>\n",
              "<style scoped>\n",
              "    .dataframe tbody tr th:only-of-type {\n",
              "        vertical-align: middle;\n",
              "    }\n",
              "\n",
              "    .dataframe tbody tr th {\n",
              "        vertical-align: top;\n",
              "    }\n",
              "\n",
              "    .dataframe thead th {\n",
              "        text-align: right;\n",
              "    }\n",
              "</style>\n",
              "<table border=\"1\" class=\"dataframe\">\n",
              "  <thead>\n",
              "    <tr style=\"text-align: right;\">\n",
              "      <th></th>\n",
              "      <th>qseqid</th>\n",
              "      <th>sseqid</th>\n",
              "      <th>pident</th>\n",
              "      <th>length</th>\n",
              "      <th>misMatch</th>\n",
              "      <th>gapOpen</th>\n",
              "      <th>qstart</th>\n",
              "      <th>qend</th>\n",
              "      <th>sstart</th>\n",
              "      <th>send</th>\n",
              "      <th>e-value</th>\n",
              "      <th>bitScore</th>\n",
              "    </tr>\n",
              "  </thead>\n",
              "  <tbody>\n",
              "    <tr>\n",
              "      <th>7198</th>\n",
              "      <td>2515</td>\n",
              "      <td>lcl|HF680312.1_prot_CCU73896.1_3447</td>\n",
              "      <td>98.979</td>\n",
              "      <td>2253</td>\n",
              "      <td>23</td>\n",
              "      <td>0</td>\n",
              "      <td>1</td>\n",
              "      <td>2253</td>\n",
              "      <td>1</td>\n",
              "      <td>2253</td>\n",
              "      <td>0.0</td>\n",
              "      <td>4296.0</td>\n",
              "    </tr>\n",
              "    <tr>\n",
              "      <th>5770</th>\n",
              "      <td>2053</td>\n",
              "      <td>lcl|HF680312.1_prot_CCU70724.1_275</td>\n",
              "      <td>97.870</td>\n",
              "      <td>2113</td>\n",
              "      <td>43</td>\n",
              "      <td>1</td>\n",
              "      <td>7</td>\n",
              "      <td>2119</td>\n",
              "      <td>1</td>\n",
              "      <td>2111</td>\n",
              "      <td>0.0</td>\n",
              "      <td>4158.0</td>\n",
              "    </tr>\n",
              "    <tr>\n",
              "      <th>891</th>\n",
              "      <td>322</td>\n",
              "      <td>lcl|HF680312.1_prot_CCU71900.1_1451</td>\n",
              "      <td>99.878</td>\n",
              "      <td>1640</td>\n",
              "      <td>2</td>\n",
              "      <td>0</td>\n",
              "      <td>1</td>\n",
              "      <td>1640</td>\n",
              "      <td>1</td>\n",
              "      <td>1640</td>\n",
              "      <td>0.0</td>\n",
              "      <td>3406.0</td>\n",
              "    </tr>\n",
              "    <tr>\n",
              "      <th>7424</th>\n",
              "      <td>2591</td>\n",
              "      <td>lcl|HF680312.1_prot_CCU73861.1_3412</td>\n",
              "      <td>99.214</td>\n",
              "      <td>1654</td>\n",
              "      <td>13</td>\n",
              "      <td>0</td>\n",
              "      <td>1</td>\n",
              "      <td>1654</td>\n",
              "      <td>1</td>\n",
              "      <td>1654</td>\n",
              "      <td>0.0</td>\n",
              "      <td>3372.0</td>\n",
              "    </tr>\n",
              "    <tr>\n",
              "      <th>115</th>\n",
              "      <td>46</td>\n",
              "      <td>lcl|HF680312.1_prot_CCU71621.1_1172</td>\n",
              "      <td>99.690</td>\n",
              "      <td>1611</td>\n",
              "      <td>5</td>\n",
              "      <td>0</td>\n",
              "      <td>1</td>\n",
              "      <td>1611</td>\n",
              "      <td>1</td>\n",
              "      <td>1611</td>\n",
              "      <td>0.0</td>\n",
              "      <td>3338.0</td>\n",
              "    </tr>\n",
              "  </tbody>\n",
              "</table>\n",
              "</div>\n",
              "      <button class=\"colab-df-convert\" onclick=\"convertToInteractive('df-7e8eb005-3be8-4dee-8e66-a977fad5ee69')\"\n",
              "              title=\"Convert this dataframe to an interactive table.\"\n",
              "              style=\"display:none;\">\n",
              "        \n",
              "  <svg xmlns=\"http://www.w3.org/2000/svg\" height=\"24px\"viewBox=\"0 0 24 24\"\n",
              "       width=\"24px\">\n",
              "    <path d=\"M0 0h24v24H0V0z\" fill=\"none\"/>\n",
              "    <path d=\"M18.56 5.44l.94 2.06.94-2.06 2.06-.94-2.06-.94-.94-2.06-.94 2.06-2.06.94zm-11 1L8.5 8.5l.94-2.06 2.06-.94-2.06-.94L8.5 2.5l-.94 2.06-2.06.94zm10 10l.94 2.06.94-2.06 2.06-.94-2.06-.94-.94-2.06-.94 2.06-2.06.94z\"/><path d=\"M17.41 7.96l-1.37-1.37c-.4-.4-.92-.59-1.43-.59-.52 0-1.04.2-1.43.59L10.3 9.45l-7.72 7.72c-.78.78-.78 2.05 0 2.83L4 21.41c.39.39.9.59 1.41.59.51 0 1.02-.2 1.41-.59l7.78-7.78 2.81-2.81c.8-.78.8-2.07 0-2.86zM5.41 20L4 18.59l7.72-7.72 1.47 1.35L5.41 20z\"/>\n",
              "  </svg>\n",
              "      </button>\n",
              "      \n",
              "  <style>\n",
              "    .colab-df-container {\n",
              "      display:flex;\n",
              "      flex-wrap:wrap;\n",
              "      gap: 12px;\n",
              "    }\n",
              "\n",
              "    .colab-df-convert {\n",
              "      background-color: #E8F0FE;\n",
              "      border: none;\n",
              "      border-radius: 50%;\n",
              "      cursor: pointer;\n",
              "      display: none;\n",
              "      fill: #1967D2;\n",
              "      height: 32px;\n",
              "      padding: 0 0 0 0;\n",
              "      width: 32px;\n",
              "    }\n",
              "\n",
              "    .colab-df-convert:hover {\n",
              "      background-color: #E2EBFA;\n",
              "      box-shadow: 0px 1px 2px rgba(60, 64, 67, 0.3), 0px 1px 3px 1px rgba(60, 64, 67, 0.15);\n",
              "      fill: #174EA6;\n",
              "    }\n",
              "\n",
              "    [theme=dark] .colab-df-convert {\n",
              "      background-color: #3B4455;\n",
              "      fill: #D2E3FC;\n",
              "    }\n",
              "\n",
              "    [theme=dark] .colab-df-convert:hover {\n",
              "      background-color: #434B5C;\n",
              "      box-shadow: 0px 1px 3px 1px rgba(0, 0, 0, 0.15);\n",
              "      filter: drop-shadow(0px 1px 2px rgba(0, 0, 0, 0.3));\n",
              "      fill: #FFFFFF;\n",
              "    }\n",
              "  </style>\n",
              "\n",
              "      <script>\n",
              "        const buttonEl =\n",
              "          document.querySelector('#df-7e8eb005-3be8-4dee-8e66-a977fad5ee69 button.colab-df-convert');\n",
              "        buttonEl.style.display =\n",
              "          google.colab.kernel.accessAllowed ? 'block' : 'none';\n",
              "\n",
              "        async function convertToInteractive(key) {\n",
              "          const element = document.querySelector('#df-7e8eb005-3be8-4dee-8e66-a977fad5ee69');\n",
              "          const dataTable =\n",
              "            await google.colab.kernel.invokeFunction('convertToInteractive',\n",
              "                                                     [key], {});\n",
              "          if (!dataTable) return;\n",
              "\n",
              "          const docLinkHtml = 'Like what you see? Visit the ' +\n",
              "            '<a target=\"_blank\" href=https://colab.research.google.com/notebooks/data_table.ipynb>data table notebook</a>'\n",
              "            + ' to learn more about interactive tables.';\n",
              "          element.innerHTML = '';\n",
              "          dataTable['output_type'] = 'display_data';\n",
              "          await google.colab.output.renderOutput(dataTable, element);\n",
              "          const docLink = document.createElement('div');\n",
              "          docLink.innerHTML = docLinkHtml;\n",
              "          element.appendChild(docLink);\n",
              "        }\n",
              "      </script>\n",
              "    </div>\n",
              "  </div>\n",
              "  "
            ]
          },
          "metadata": {},
          "execution_count": 27
        }
      ]
    },
    {
      "cell_type": "markdown",
      "source": [],
      "metadata": {
        "id": "zMqHOVnzgDGt"
      }
    },
    {
      "cell_type": "code",
      "source": [
        "print('Cколько из них удалось аннотировать с помощью сравнения с бактерией MIL-1 :', df.shape[0])"
      ],
      "metadata": {
        "colab": {
          "base_uri": "https://localhost:8080/"
        },
        "id": "EBJ4l7gvd0pM",
        "outputId": "6e6ce93b-af39-4b65-ff46-75f6cb7d91d3"
      },
      "execution_count": 30,
      "outputs": [
        {
          "output_type": "stream",
          "name": "stdout",
          "text": [
            "Cколько из них удалось аннотировать с помощью сравнения с бактерией MIL-1 : 3329\n"
          ]
        }
      ]
    },
    {
      "cell_type": "code",
      "source": [
        "# Скачиваем функций белков SwissProt из файла.\n",
        "!wget https://ftp.uniprot.org/pub/databases/uniprot/current_release/knowledgebase/complete/uniprot_sprot.dat.gz\n",
        "!gzip -d uniprot_sprot.dat.gz\n",
        "!grep '^ID\\|^DE   RecName: Full=' uniprot_sprot.dat > SwissProt_names.txt"
      ],
      "metadata": {
        "id": "b_kl19zCZZL1",
        "colab": {
          "base_uri": "https://localhost:8080/"
        },
        "outputId": "64e51cc4-c254-45f7-857d-8ced60690ea7"
      },
      "execution_count": 18,
      "outputs": [
        {
          "output_type": "stream",
          "name": "stdout",
          "text": [
            "--2022-10-23 19:32:09--  https://ftp.uniprot.org/pub/databases/uniprot/current_release/knowledgebase/complete/uniprot_sprot.dat.gz\n",
            "Resolving ftp.uniprot.org (ftp.uniprot.org)... 128.175.240.195\n",
            "Connecting to ftp.uniprot.org (ftp.uniprot.org)|128.175.240.195|:443... connected.\n",
            "HTTP request sent, awaiting response... 200 OK\n",
            "Length: 642093634 (612M) [application/x-gzip]\n",
            "Saving to: ‘uniprot_sprot.dat.gz’\n",
            "\n",
            "uniprot_sprot.dat.g 100%[===================>] 612.35M  21.0MB/s    in 23s     \n",
            "\n",
            "2022-10-23 19:32:32 (26.3 MB/s) - ‘uniprot_sprot.dat.gz’ saved [642093634/642093634]\n",
            "\n"
          ]
        }
      ]
    },
    {
      "cell_type": "code",
      "source": [
        "for i, row in df.iterrows():\n",
        "  gene = genes[str(row['qseqid'])]\n",
        "  match = row['sseqid'].split('_')[2]\n",
        "  gene.qualifiers['product'] = [qual_genes_mil1[match]]\n",
        "\n",
        "# Аннотируем геном.\n",
        "SeqIO.write(scaffolds.values(), 'GENOME.gbk', 'genbank')"
      ],
      "metadata": {
        "id": "HHBbg-FJcfPP",
        "colab": {
          "base_uri": "https://localhost:8080/"
        },
        "outputId": "9681aac2-84e9-42db-ce79-d80f38e88d7b"
      },
      "execution_count": 28,
      "outputs": [
        {
          "output_type": "execute_result",
          "data": {
            "text/plain": [
              "71"
            ]
          },
          "metadata": {},
          "execution_count": 28
        }
      ]
    }
  ]
}